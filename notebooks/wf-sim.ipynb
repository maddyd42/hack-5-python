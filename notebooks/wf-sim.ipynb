{
 "cells": [
  {
   "cell_type": "markdown",
   "id": "cdc1fee0-fd65-4c80-a1bd-d4d54dad8851",
   "metadata": {},
   "source": [
    "WRIGHT FISHER MODEL"
   ]
  },
  {
   "cell_type": "markdown",
   "id": "0b63a025-dfcf-41ed-b705-7081e61f21f6",
   "metadata": {},
   "source": [
    "(btw I turned these into a plain text cell by pressing esc+m)"
   ]
  },
  {
   "cell_type": "code",
   "execution_count": 2,
   "id": "206baef5-6fe7-4976-9702-a2f4e8be81fe",
   "metadata": {},
   "outputs": [],
   "source": [
    "import numpy as np"
   ]
  },
  {
   "cell_type": "code",
   "execution_count": 19,
   "id": "6d2e37f3-0c5a-4831-bf01-a73120b28778",
   "metadata": {},
   "outputs": [
    {
     "name": "stdout",
     "output_type": "stream",
     "text": [
      "[1, 0, 1, 0, 0, 1, 1, 0, 1, 0]\n"
     ]
    }
   ],
   "source": [
    "def init(N, f):\n",
    "    \"\"\"Initialize a population of N haploid individuals with frequency f of allele 'a' (1s).\"\"\"\n",
    "    num_ones = int(round(N * f))  # Number of derived alleles (1s)\n",
    "    num_zeros = N - num_ones  # Remaining ancestral alleles (0s)\n",
    "\n",
    "    # Create the population list with the correct proportions\n",
    "    population = [1] * num_ones + [0] * num_zeros\n",
    "    \n",
    "    # Shuffle to randomize distribution\n",
    "    np.random.shuffle(population)\n",
    "    \n",
    "    return population\n",
    "\n",
    "# Example usage:\n",
    "pop = init(N=10, f=0.5)\n",
    "print(pop)  # Expected: A random list with ~50% 1s and 0s"
   ]
  },
  {
   "cell_type": "code",
   "execution_count": 20,
   "id": "4627e422-05db-4811-b4f5-b5f4552dac1f",
   "metadata": {},
   "outputs": [
    {
     "name": "stdout",
     "output_type": "stream",
     "text": [
      "[1, 0, 0, 1, 0, 1, 1, 0, 0, 1]\n"
     ]
    }
   ],
   "source": [
    "##A DIFFERENT MORE CONCISE WAY TO DO IT\n",
    "def init(N, f):\n",
    "    return random.choices([0, 1], weights=[1-f, f], k=N)\n",
    "\n",
    "pop = init(N=10, f=0.5)\n",
    "print(pop)"
   ]
  },
  {
   "cell_type": "code",
   "execution_count": 5,
   "id": "4fd98fb6-1ab8-4c7b-a915-78d573fa9d50",
   "metadata": {},
   "outputs": [],
   "source": [
    "import random"
   ]
  },
  {
   "cell_type": "code",
   "execution_count": 6,
   "id": "f9a607a8-7d26-47c7-ac28-495b8ecce540",
   "metadata": {},
   "outputs": [
    {
     "name": "stdout",
     "output_type": "stream",
     "text": [
      "[1, 0, 0, 1, 0, 0, 1, 0, 0, 0]\n"
     ]
    }
   ],
   "source": [
    "def step(ancestral_population):\n",
    "    \"\"\"Simulate one step in the Wright-Fisher model of population genetics.\"\"\"\n",
    "    # Calculate the frequency of 1s (derived allele) in the ancestral population\n",
    "    f_ones = ancestral_population.count(1) / len(ancestral_population)\n",
    "    \n",
    "    # Calculate the frequency of 0s (ancestral allele)\n",
    "    f_zeros = 1 - f_ones  # It's just the complement of the frequency of 1s\n",
    "\n",
    "    # Use random.choices to create the new population based on the frequencies\n",
    "    new_population = random.choices([0, 1], weights=[f_zeros, f_ones], k=len(ancestral_population))\n",
    "\n",
    "    return new_population\n",
    "\n",
    "# Example usage:\n",
    "ancestral_pop = [1, 0, 0, 1, 0, 1, 0, 0, 1, 0]\n",
    "descendant_pop = step(ancestral_pop)\n",
    "print(descendant_pop)  # New population generated with same size, based on frequencies\n"
   ]
  },
  {
   "cell_type": "code",
   "execution_count": 54,
   "id": "9646e749-a033-4df0-ae88-bd423432647b",
   "metadata": {},
   "outputs": [
    {
     "name": "stdout",
     "output_type": "stream",
     "text": [
      "generations: 10; freq(a): 0.5500\n"
     ]
    }
   ],
   "source": [
    "import random\n",
    "\n",
    "# Initialize the population with given frequency of allele 'a' (1)\n",
    "def init(N, f):\n",
    "    return random.choices([0, 1], weights=[1-f, f], k=N)\n",
    "\n",
    "# Simulate one generation using Wright-Fisher sampling\n",
    "def step(ancestral_population):\n",
    "    f_ones = ancestral_population.count(1) / len(ancestral_population)  # frequency of 'a' (1)\n",
    "    f_zeros = 1 - f_ones  # frequency of 'A' (0)\n",
    "    return random.choices([0, 1], weights=[f_zeros, f_ones], k=len(ancestral_population))\n",
    "\n",
    "# Wright-Fisher simulation\n",
    "def wf(N, f, ngens):\n",
    "    population = init(N, f)  # Initialize population\n",
    "    for _ in range(ngens):  # Run for the given number of generations\n",
    "        population = step(population)\n",
    "    \n",
    "    final_f = population.count(1) / len(population)  # Final frequency of 'a' (1)\n",
    "    \n",
    "    # Print results in the required format #with 4 floating decimal places\n",
    "    print(f\"generations: {ngens}; freq(a): {final_f:.4f}\")\n",
    "\n",
    "# Example call\n",
    "wf(N=100, f=0.5, ngens=10)\n",
    "\n"
   ]
  },
  {
   "cell_type": "code",
   "execution_count": 67,
   "id": "3b1e9e31-e5fe-4f63-8a97-903949bcbc03",
   "metadata": {},
   "outputs": [
    {
     "name": "stdout",
     "output_type": "stream",
     "text": [
      "Allele 1 (a) FIXED after 14 generations; freq(a) = 1.0000\n"
     ]
    }
   ],
   "source": [
    "#NEW FUNCTION FOR INDICATED WHETHER ALLELE 1 IS LOST OR FIXED\n",
    "\n",
    "def wf2(N, f, ngens):\n",
    "    \"\"\"Simulate the Wright-Fisher process for ngens generations or until fixation/loss.\"\"\"\n",
    "    population = init(N, f)  # Initialize population\n",
    "    for gen in range(ngens):\n",
    "        population = step(population)  # Simulate a generation\n",
    "        freq_a = sum(population) / N  # Calculate new allele frequency\n",
    "        \n",
    "        # Check for fixation or loss\n",
    "        if freq_a == 1.0:\n",
    "            print(f\"Allele 1 (a) FIXED after {gen+1} generations; freq(a) = 1.0000\")\n",
    "            return\n",
    "        elif freq_a == 0.0:\n",
    "            print(f\"Allele 1 (a) LOST after {gen+1} generations; freq(a) = 0.0000\")\n",
    "            return\n",
    "    \n",
    "    # If no fixation/loss, print the final frequency\n",
    "    print(f\"Generations: {ngens}; Final freq(a): {freq_a:.4f}\")\n",
    "\n",
    "wf2(N=100, f=0.8, ngens=50)"
   ]
  },
  {
   "cell_type": "code",
   "execution_count": 69,
   "id": "34be583d-0035-4b1e-9551-4239976a0b2a",
   "metadata": {},
   "outputs": [
    {
     "name": "stdout",
     "output_type": "stream",
     "text": [
      "Generations: 50; Final freq(a): 0.7700\n",
      "[0.2, 0.19, 0.16, 0.15, 0.15, 0.12, 0.08, 0.07, 0.09, 0.07, 0.06, 0.08, 0.08, 0.06, 0.1, 0.1, 0.11, 0.11, 0.09, 0.06, 0.08, 0.09, 0.07, 0.08, 0.07, 0.09, 0.14, 0.19, 0.29, 0.26, 0.27, 0.31, 0.37, 0.4, 0.4, 0.45, 0.51, 0.57, 0.64, 0.74, 0.82, 0.85, 0.81, 0.8, 0.8, 0.77, 0.69, 0.71, 0.79, 0.77]\n"
     ]
    }
   ],
   "source": [
    "#TRACK FREQUENCY OVER TIME\n",
    "\n",
    "def init(N, f):\n",
    "    \"\"\"Initialize the population with N individuals, where a proportion f have allele 1 (a).\"\"\"\n",
    "    num_ones = int(N * f)  # Number of '1's (a)\n",
    "    num_zeros = N - num_ones  # Remaining '0's (A)\n",
    "    population = [1] * num_ones + [0] * num_zeros  # Create the list\n",
    "    random.shuffle(population)  # Shuffle for randomness\n",
    "    return population\n",
    "\n",
    "def step(population):\n",
    "    \"\"\"Generate the next generation by sampling from the current population.\"\"\"\n",
    "    N = len(population)\n",
    "    freq_a = sum(population) / N  # Calculate frequency of allele 1 (a)\n",
    "    new_population = random.choices([0, 1], weights=[1 - freq_a, freq_a], k=N)  \n",
    "    return new_population\n",
    "\n",
    "def wf(N, f, ngens):\n",
    "    \"\"\"Simulate the Wright-Fisher process and track allele frequency over time.\"\"\"\n",
    "    population = init(N, f)  # Initialize population\n",
    "    allele_freqs = []  # List to store allele frequencies over generations\n",
    "    \n",
    "    for gen in range(ngens):\n",
    "        freq_a = sum(population) / N  # Compute current allele frequency\n",
    "        allele_freqs.append(freq_a)  # Store frequency\n",
    "        \n",
    "        # Check for fixation or loss\n",
    "        if freq_a == 1.0:\n",
    "            print(f\"Allele 1 (a) FIXED after {gen+1} generations; freq(a) = 1.0000\")\n",
    "            allele_freqs.append(1.0)  # Add final value\n",
    "            return allele_freqs\n",
    "        elif freq_a == 0.0:\n",
    "            print(f\"Allele 1 (a) LOST after {gen+1} generations; freq(a) = 0.0000\")\n",
    "            allele_freqs.append(0.0)  # Add final value\n",
    "            return allele_freqs\n",
    "        \n",
    "        population = step(population)  # Move to next generation\n",
    "\n",
    "    # If no fixation/loss, print the final frequency\n",
    "    print(f\"Generations: {ngens}; Final freq(a): {allele_freqs[-1]:.4f}\")\n",
    "    return allele_freqs  # Return tracked frequencies\n",
    "\n",
    "freqs = wf(N=100, f=0.2, ngens=50)\n",
    "print(freqs)\n"
   ]
  },
  {
   "cell_type": "code",
   "execution_count": 71,
   "id": "3d37bcc6-427e-4d29-87ed-5a428331b626",
   "metadata": {},
   "outputs": [
    {
     "name": "stdout",
     "output_type": "stream",
     "text": [
      "Collecting matplotlib\n",
      "  Downloading matplotlib-3.10.0-cp312-cp312-manylinux_2_17_x86_64.manylinux2014_x86_64.whl.metadata (11 kB)\n",
      "Collecting contourpy>=1.0.1 (from matplotlib)\n",
      "  Downloading contourpy-1.3.1-cp312-cp312-manylinux_2_17_x86_64.manylinux2014_x86_64.whl.metadata (5.4 kB)\n",
      "Collecting cycler>=0.10 (from matplotlib)\n",
      "  Downloading cycler-0.12.1-py3-none-any.whl.metadata (3.8 kB)\n",
      "Collecting fonttools>=4.22.0 (from matplotlib)\n",
      "  Downloading fonttools-4.56.0-cp312-cp312-manylinux_2_5_x86_64.manylinux1_x86_64.manylinux_2_17_x86_64.manylinux2014_x86_64.whl.metadata (101 kB)\n",
      "Collecting kiwisolver>=1.3.1 (from matplotlib)\n",
      "  Downloading kiwisolver-1.4.8-cp312-cp312-manylinux_2_17_x86_64.manylinux2014_x86_64.whl.metadata (6.2 kB)\n",
      "Requirement already satisfied: numpy>=1.23 in /home/maddyd42/miniconda3/lib/python3.12/site-packages (from matplotlib) (2.2.2)\n",
      "Requirement already satisfied: packaging>=20.0 in /home/maddyd42/miniconda3/lib/python3.12/site-packages (from matplotlib) (24.1)\n",
      "Collecting pillow>=8 (from matplotlib)\n",
      "  Downloading pillow-11.1.0-cp312-cp312-manylinux_2_28_x86_64.whl.metadata (9.1 kB)\n",
      "Collecting pyparsing>=2.3.1 (from matplotlib)\n",
      "  Downloading pyparsing-3.2.1-py3-none-any.whl.metadata (5.0 kB)\n",
      "Requirement already satisfied: python-dateutil>=2.7 in /home/maddyd42/miniconda3/lib/python3.12/site-packages (from matplotlib) (2.9.0.post0)\n",
      "Requirement already satisfied: six>=1.5 in /home/maddyd42/miniconda3/lib/python3.12/site-packages (from python-dateutil>=2.7->matplotlib) (1.17.0)\n",
      "Downloading matplotlib-3.10.0-cp312-cp312-manylinux_2_17_x86_64.manylinux2014_x86_64.whl (8.6 MB)\n",
      "\u001b[2K   \u001b[90m━━━━━━━━━━━━━━━━━━━━━━━━━━━━━━━━━━━━━━━━\u001b[0m \u001b[32m8.6/8.6 MB\u001b[0m \u001b[31m32.0 MB/s\u001b[0m eta \u001b[36m0:00:00\u001b[0ma \u001b[36m0:00:01\u001b[0m\n",
      "Downloading contourpy-1.3.1-cp312-cp312-manylinux_2_17_x86_64.manylinux2014_x86_64.whl (323 kB)\n",
      "Downloading cycler-0.12.1-py3-none-any.whl (8.3 kB)\n",
      "Downloading fonttools-4.56.0-cp312-cp312-manylinux_2_5_x86_64.manylinux1_x86_64.manylinux_2_17_x86_64.manylinux2014_x86_64.whl (4.9 MB)\n",
      "\u001b[2K   \u001b[90m━━━━━━━━━━━━━━━━━━━━━━━━━━━━━━━━━━━━━━━━\u001b[0m \u001b[32m4.9/4.9 MB\u001b[0m \u001b[31m36.1 MB/s\u001b[0m eta \u001b[36m0:00:00\u001b[0m\n",
      "\u001b[?25hDownloading kiwisolver-1.4.8-cp312-cp312-manylinux_2_17_x86_64.manylinux2014_x86_64.whl (1.5 MB)\n",
      "\u001b[2K   \u001b[90m━━━━━━━━━━━━━━━━━━━━━━━━━━━━━━━━━━━━━━━━\u001b[0m \u001b[32m1.5/1.5 MB\u001b[0m \u001b[31m57.0 MB/s\u001b[0m eta \u001b[36m0:00:00\u001b[0m\n",
      "Downloading pillow-11.1.0-cp312-cp312-manylinux_2_28_x86_64.whl (4.5 MB)\n",
      "\u001b[2K   \u001b[90m━━━━━━━━━━━━━━━━━━━━━━━━━━━━━━━━━━━━━━━━\u001b[0m \u001b[32m4.5/4.5 MB\u001b[0m \u001b[31m44.8 MB/s\u001b[0m eta \u001b[36m0:00:00\u001b[0m\n",
      "\u001b[?25hDownloading pyparsing-3.2.1-py3-none-any.whl (107 kB)\n",
      "Installing collected packages: pyparsing, pillow, kiwisolver, fonttools, cycler, contourpy, matplotlib\n",
      "Successfully installed contourpy-1.3.1 cycler-0.12.1 fonttools-4.56.0 kiwisolver-1.4.8 matplotlib-3.10.0 pillow-11.1.0 pyparsing-3.2.1\n"
     ]
    }
   ],
   "source": [
    "#PROBABILITY OF FIXATION\n",
    "!pip install matplotlib"
   ]
  },
  {
   "cell_type": "code",
   "execution_count": 80,
   "id": "45a5df0a-ede8-43ab-993a-04fb95d70c5b",
   "metadata": {},
   "outputs": [
    {
     "name": "stdout",
     "output_type": "stream",
     "text": [
      "Estimated fixation probability: 0.1500 (Expected: 0.2)\n"
     ]
    },
    {
     "data": {
      "text/plain": [
       "0.15"
      ]
     },
     "execution_count": 80,
     "metadata": {},
     "output_type": "execute_result"
    }
   ],
   "source": [
    "import matplotlib.pyplot as plt\n",
    "\n",
    "def init(N, f):\n",
    "    \"\"\"Initialize the population with N individuals, where a proportion f have allele 1 (a).\"\"\"\n",
    "    num_ones = int(N * f)  \n",
    "    num_zeros = N - num_ones  \n",
    "    population = [1] * num_ones + [0] * num_zeros  \n",
    "    random.shuffle(population)  \n",
    "    return population\n",
    "\n",
    "def step(population):\n",
    "    \"\"\"Generate the next generation by sampling from the current population.\"\"\"\n",
    "    N = len(population)\n",
    "    freq_a = sum(population) / N  \n",
    "    new_population = random.choices([0, 1], weights=[1 - freq_a, freq_a], k=N)  \n",
    "    return new_population\n",
    "\n",
    "def wf(N, f, ngens):\n",
    "    \"\"\"Simulate the Wright-Fisher process and check for fixation/loss.\"\"\"\n",
    "    population = init(N, f)  \n",
    "    for gen in range(ngens):\n",
    "        freq_a = sum(population) / N  \n",
    "        \n",
    "        if freq_a == 1.0:\n",
    "            return \"fixed\"\n",
    "        elif freq_a == 0.0:\n",
    "            return \"lost\"\n",
    "        \n",
    "        population = step(population)  \n",
    "\n",
    "    return \"neither\"  \n",
    "\n",
    "def iterate_wf(N, f, ngens, num_replicates):\n",
    "    \"\"\"Run wf() multiple times to estimate fixation probability of allele 1 (a).\"\"\"\n",
    "    fixation_count = 0  \n",
    "\n",
    "    for _ in range(num_replicates):\n",
    "        result = wf(N, f, ngens)\n",
    "        if result == \"fixed\":\n",
    "            fixation_count += 1  \n",
    "\n",
    "    fixation_prob = fixation_count / num_replicates  \n",
    "    print(f\"Estimated fixation probability: {fixation_prob:.4f} (Expected: {f})\")\n",
    "    return fixation_prob\n",
    "\n",
    "iterate_wf(N=100, f=0.2, ngens=1000, num_replicates=100)"
   ]
  }
 ],
 "metadata": {
  "kernelspec": {
   "display_name": "Python 3 (ipykernel)",
   "language": "python",
   "name": "python3"
  },
  "language_info": {
   "codemirror_mode": {
    "name": "ipython",
    "version": 3
   },
   "file_extension": ".py",
   "mimetype": "text/x-python",
   "name": "python",
   "nbconvert_exporter": "python",
   "pygments_lexer": "ipython3",
   "version": "3.12.2"
  }
 },
 "nbformat": 4,
 "nbformat_minor": 5
}
